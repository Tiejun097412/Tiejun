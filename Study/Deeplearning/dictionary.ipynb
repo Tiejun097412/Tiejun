{
  "nbformat": 4,
  "nbformat_minor": 0,
  "metadata": {
    "colab": {
      "name": "dictionary.ipynb",
      "version": "0.3.2",
      "provenance": [],
      "private_outputs": true,
      "collapsed_sections": [],
      "include_colab_link": true
    },
    "kernelspec": {
      "name": "python3",
      "display_name": "Python 3"
    },
    "accelerator": "GPU"
  },
  "cells": [
    {
      "cell_type": "markdown",
      "metadata": {
        "id": "view-in-github",
        "colab_type": "text"
      },
      "source": [
        "<a href=\"https://colab.research.google.com/github/Tiejun097412/Tiejun/blob/master/dictionary.ipynb\" target=\"_parent\"><img src=\"https://colab.research.google.com/assets/colab-badge.svg\" alt=\"Open In Colab\"/></a>"
      ]
    },
    {
      "cell_type": "code",
      "metadata": {
        "id": "cgEI6wkjZ4Vd",
        "colab_type": "code",
        "colab": {}
      },
      "source": [
        "alien_0={'color':'green','points':5}\n",
        "print(alien_0['color'])"
      ],
      "execution_count": 0,
      "outputs": []
    },
    {
      "cell_type": "code",
      "metadata": {
        "id": "kj4jnP9raZjF",
        "colab_type": "code",
        "colab": {}
      },
      "source": [
        "new_points = alien_0['points']\n",
        "print(\"You just earned \" + str(new_points) + \" points!\")"
      ],
      "execution_count": 0,
      "outputs": []
    },
    {
      "cell_type": "code",
      "metadata": {
        "id": "S9mHFqg7a4ZC",
        "colab_type": "code",
        "colab": {}
      },
      "source": [
        "print(alien_0)"
      ],
      "execution_count": 0,
      "outputs": []
    },
    {
      "cell_type": "code",
      "metadata": {
        "id": "P8af1bn5a-67",
        "colab_type": "code",
        "colab": {}
      },
      "source": [
        "alien_0['color'] = 'yellow'\n",
        "print(alien_0)\n"
      ],
      "execution_count": 0,
      "outputs": []
    },
    {
      "cell_type": "code",
      "metadata": {
        "id": "jYyLk7zydTyt",
        "colab_type": "code",
        "colab": {}
      },
      "source": [
        "fl = {'jen':'python',\n",
        "      'sarah':'c',\n",
        "      'edward':'ruby',\n",
        "      'phil':'python'}\n",
        "print(fl['phil'].title())\n"
      ],
      "execution_count": 0,
      "outputs": []
    },
    {
      "cell_type": "code",
      "metadata": {
        "id": "rYkrRZFHwuqI",
        "colab_type": "code",
        "colab": {}
      },
      "source": [
        "print(fl.values())\n"
      ],
      "execution_count": 0,
      "outputs": []
    },
    {
      "cell_type": "code",
      "metadata": {
        "id": "DISXAVVGtb9I",
        "colab_type": "code",
        "colab": {}
      },
      "source": [
        "print(sorted(fl.keys()))"
      ],
      "execution_count": 0,
      "outputs": []
    },
    {
      "cell_type": "code",
      "metadata": {
        "id": "t_VrZ8k8udjN",
        "colab_type": "code",
        "colab": {}
      },
      "source": [
        "A = [1,6,5,7]\n",
        "A.sort()\n",
        "print(A)"
      ],
      "execution_count": 0,
      "outputs": []
    },
    {
      "cell_type": "code",
      "metadata": {
        "id": "qrRoQvMN9LQT",
        "colab_type": "code",
        "colab": {}
      },
      "source": [
        "#字典列表\n",
        "alien_1 = {'color':'green','points':3}\n",
        "alien_2 = {'color':'red','points':4}\n",
        "aliens = [alien_0,alien_1,alien_2]\n",
        "print(aliens)"
      ],
      "execution_count": 0,
      "outputs": []
    },
    {
      "cell_type": "code",
      "metadata": {
        "id": "pZcFuCRe9wR8",
        "colab_type": "code",
        "colab": {}
      },
      "source": [
        "#列表字典\n",
        "position = [3,4]\n",
        "alien_1['position'] = position\n",
        "print(alien_1)"
      ],
      "execution_count": 0,
      "outputs": []
    },
    {
      "cell_type": "code",
      "metadata": {
        "id": "fACvGhKP-Xl4",
        "colab_type": "code",
        "colab": {}
      },
      "source": [
        "#字典字典\n",
        "creature = {'alien_0':alien_0,'alien_1':alien_1}\n",
        "print(creature)"
      ],
      "execution_count": 0,
      "outputs": []
    }
  ]
}