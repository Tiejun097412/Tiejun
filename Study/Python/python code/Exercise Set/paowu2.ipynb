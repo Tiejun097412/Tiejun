{
 "cells": [
  {
   "cell_type": "code",
   "execution_count": 79,
   "metadata": {},
   "outputs": [
    {
     "name": "stdin",
     "output_type": "stream",
     "text": [
      "请输入剖分数： 4\n"
     ]
    },
    {
     "name": "stdout",
     "output_type": "stream",
     "text": [
      "[2.77863961e-01 2.40617980e-17 0.00000000e+00 3.92958983e-01\n",
      " 3.40285211e-17 0.00000000e+00 0.00000000e+00 0.00000000e+00\n",
      " 0.00000000e+00]\n",
      "无穷范数为： 0.3929589825247828\n",
      "L2范数为： 0.05347494427938719\n"
     ]
    }
   ],
   "source": [
    "import numpy as np\n",
    "\n",
    "a=0;b=1;c=0;d=1\n",
    "N = int(input('请输入剖分数：'))\n",
    "h1 = (b-a)/N\n",
    "n = N +1 \n",
    "tau = 0.1\n",
    "tmax = 1\n",
    "x = np.linspace(a,b,n)\n",
    "y = np.linspace(c,d,n)\n",
    "k = int(tmax/tau+1)\n",
    "#print(k)\n",
    "T = np.linspace(0,tmax,2*k)\n",
    "#～～～～～～～～～～～～～～～精确解～～～～～～～～～～～～～～～～～～～\n",
    "ue2d = np.zeros((N-1,N-1))#矩阵形式\n",
    "for j in range(0,N-2):\n",
    "    for i in range(0,N-2):\n",
    "        ue2d[i,j] = np.sin(np.pi*x[i+1])*np.cos(np.pi*y[j+1])#赋值\n",
    "        \n",
    "ue1d = ue2d.reshape(((N-1)**2,1),order = 'C')\n",
    "\n",
    "f = np.zeros((1,2*k))\n",
    "                                                \n",
    "for i in range(0,2*k-1):\n",
    "    f[0,i] = np.exp(-np.pi**2*T[i]/8)\n",
    "\n",
    "UE = np.matmul(ue1d,f)\n",
    "#～～～～～～～～～～～～～～～初值～～～～～～～～～～～～～～～～～～～～\n",
    "u0 = np.zeros((N-1,N-1))\n",
    "for j in range(0,N-2):\n",
    "    for i in range(0,N-2):\n",
    "        u0[i,j] = np.sin(np.pi*x[i+1])*np.cos(np.pi*y[j+1])\n",
    "\n",
    "U0 = u0.reshape((N-1)**2,order = 'C')\n",
    "        \n",
    "#～～～～～～～～～～～～～～～数值解～～～～～～～～～～～～～～～～～～～\n",
    "#创建系数矩阵\n",
    "h2 = tau/(32*(h1**2))\n",
    "E = np.eye(N-1)\n",
    "\n",
    "B1 = (1+2*h2)*np.eye(N-1,k = 0) - h2*np.eye(N-1,k = 1) - h2*np.eye(N-1,k = -1)\n",
    "B2 = (1-2*h2)*np.eye(N-1,k = 0) + h2*np.eye(N-1,k = 1) + h2*np.eye(N-1,k = -1)\n",
    "\n",
    "l = np.zeros(N-1)\n",
    "l[0] = h2\n",
    "l[N-2] = h2\n",
    "A0 = np.kron(E,np.diag(l))\n",
    "A1 = np.kron(B1,E)\n",
    "#print(A1)\n",
    "#print(np.linalg.inv(A1))\n",
    "A02 = np.kron(E,B2)\n",
    "A2 = A02 + A0\n",
    "#print(A2)\n",
    "A03 = np.kron(E,B1)\n",
    "A3 = A03 - A0\n",
    "A4 = np.kron(B2,E)\n",
    "#得到处理完边界之后的系数矩阵\n",
    "#求解\n",
    "U = np.zeros(((N-1)**2,2*k))\n",
    "U[:,0] = U0\n",
    "\n",
    "for i in range(0,2,2*k-1):\n",
    "    U[:,i+1] = np.matmul(np.linalg.inv(A1),A2*U[:,i-1] + tau*F[:,i])\n",
    "    U[:,i+2] = np.matmul(np.linalg.inv(A3),A4*U[:,i+1] + tau*F[:,i+1])\n",
    "\n",
    "\n",
    "print(u)"
   ]
  },
  {
   "cell_type": "code",
   "execution_count": 78,
   "metadata": {},
   "outputs": [
    {
     "name": "stdout",
     "output_type": "stream",
     "text": [
      "a =chen\n"
     ]
    }
   ],
   "source": [
    "a = \"chen\"\n",
    "print(\"a =\" + a)"
   ]
  },
  {
   "cell_type": "code",
   "execution_count": null,
   "metadata": {},
   "outputs": [],
   "source": []
  }
 ],
 "metadata": {
  "kernelspec": {
   "display_name": "Python 3",
   "language": "python",
   "name": "python3"
  },
  "language_info": {
   "codemirror_mode": {
    "name": "ipython",
    "version": 3
   },
   "file_extension": ".py",
   "mimetype": "text/x-python",
   "name": "python",
   "nbconvert_exporter": "python",
   "pygments_lexer": "ipython3",
   "version": "3.6.8"
  }
 },
 "nbformat": 4,
 "nbformat_minor": 2
}
