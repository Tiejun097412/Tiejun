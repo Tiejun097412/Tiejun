{
 "cells": [
  {
   "cell_type": "code",
   "execution_count": 9,
   "metadata": {},
   "outputs": [
    {
     "name": "stdout",
     "output_type": "stream",
     "text": [
      "[0. 0. 0. 0. 0. 0. 0. 0. 0. 0. 0. 0. 0. 0. 0. 0.]\n"
     ]
    },
    {
     "name": "stderr",
     "output_type": "stream",
     "text": [
      "/usr/local/lib/python3.6/dist-packages/ipykernel_launcher.py:8: DeprecationWarning: object of type <class 'float'> cannot be safely interpreted as an integer.\n",
      "  \n",
      "/usr/local/lib/python3.6/dist-packages/ipykernel_launcher.py:9: DeprecationWarning: object of type <class 'float'> cannot be safely interpreted as an integer.\n",
      "  if __name__ == '__main__':\n"
     ]
    }
   ],
   "source": [
    "import numpy as np\n",
    "\n",
    "a=0;b=1;c=0;d=1\n",
    "h1 = 0.2\n",
    "tau = 0.01\n",
    "tmax = 1\n",
    "alpha = 1\n",
    "x = np.linspace(a,b,1/h1 + 1)\n",
    "y = np.linspace(c,d,1/h1 + 1)\n",
    "k = int(tmax/tau)\n",
    "#print(k)\n",
    "T = np.linspace(0,tmax,2*k+1)\n",
    "n = int(1/h1 -1)\n",
    "#～～～～～～～～～～～～～～～初值～～～～～～～～～～～～～～～～～～～\n",
    "u0 = np.zeros((n,n))#矩阵形式\n",
    "U0 = u0.reshape(n**2,order = 'C')\n",
    "       \n",
    "#～～～～～～～～～～～～～～～数值解～～～～～～～～～～～～～～～～～～～\n",
    "#余项\n",
    "f2d = np.zeros((n,n));\n",
    "for j in range(0,n-1):\n",
    "    for i in range(0,n-1):\n",
    "        f2d[i,j] = np.sin(2*np.pi*x[i+1])*np.sin(np.pi*y[j+1]);\n",
    "\n",
    "#矩阵变向量\n",
    "f1d = f2d.reshape(((n)**2,1),order = 'C');\n",
    "g = np.zeros((1,2*k+1));\n",
    "\n",
    "for i in range(0,2*k):\n",
    "    g[0,i] = np.sin(5*np.pi*T[i]);\n",
    "\n",
    "F = np.matmul(f1d,g);\n",
    "#创建系数矩阵\n",
    "h2 = tau/(2*(h1**2));\n",
    "\n",
    "E = np.eye(n);\n",
    "\n",
    "B1 = (1+2*h2)*np.eye(n) - h2*np.eye(n,k = 1) - h2*np.eye(n,k = -1);\n",
    "\n",
    "B2 = (1-2*h2)*np.eye(n) + h2*np.eye(n,k = 1) + h2*np.eye(n,k = -1);\n",
    "\n",
    "A1 = np.kron(B1,E);\n",
    "\n",
    "A2 = np.kron(E,B2);\n",
    "\n",
    "A3 = np.kron(E,B1);\n",
    "\n",
    "A4 = np.kron(B2,E);\n",
    "#得到处理完边界之后的系数矩阵\n",
    "#求解\n",
    "U = np.zeros((n**2,2*k))\n",
    "U[:,0] = U0\n",
    "##Error:could not broadcast input array from shape (16,1) into shape (16)\n",
    "##debug:把U0 = u0.reshape((n**2,1),order = 'C')改为U0 = u0.reshape(n**2,order = 'C')\n",
    "\n",
    "for i in range(0,2,2*k-1):\n",
    "    U[:,i+1] = np.matmul(np.linalg.inv(A1),np.matmul(A2,U[:,i-1]) + tau*F[:,i])\n",
    "    U[:,i+2] = np.matmul(np.linalg.inv(A3),np.matmul(A4,U[:,i+1]) + tau*F[:,i+1])\n",
    "\n",
    "\n",
    "print(U[:,11])"
   ]
  },
  {
   "cell_type": "code",
   "execution_count": null,
   "metadata": {},
   "outputs": [],
   "source": []
  }
 ],
 "metadata": {
  "kernelspec": {
   "display_name": "Python 3",
   "language": "python",
   "name": "python3"
  },
  "language_info": {
   "codemirror_mode": {
    "name": "ipython",
    "version": 3
   },
   "file_extension": ".py",
   "mimetype": "text/x-python",
   "name": "python",
   "nbconvert_exporter": "python",
   "pygments_lexer": "ipython3",
   "version": "3.6.8"
  }
 },
 "nbformat": 4,
 "nbformat_minor": 2
}
